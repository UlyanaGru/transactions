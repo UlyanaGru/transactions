{
 "cells": [
  {
   "cell_type": "code",
   "execution_count": 1,
   "id": "b5104267",
   "metadata": {},
   "outputs": [],
   "source": [
    "import pandas as pd\n",
    "import numpy as np\n",
    "import matplotlib.pyplot as plt\n",
    "import seaborn as sns\n",
    "from mpl_toolkits.mplot3d import Axes3D\n",
    "\n",
    "import plotly.graph_objs as go\n",
    "import plotly.express as px\n",
    "from plotly.subplots import make_subplots\n",
    "\n",
    "import warnings \n",
    "\n",
    "from IPython.display import display, HTML\n",
    "\n",
    "warnings.filterwarnings(\"ignore\")\n",
    "\n",
    "plt.rcParams[\"patch.force_edgecolor\"] = True"
   ]
  },
  {
   "cell_type": "markdown",
   "id": "5d786c64",
   "metadata": {},
   "source": [
    "## 1. Структура данных"
   ]
  },
  {
   "cell_type": "code",
   "execution_count": 2,
   "id": "0985c319",
   "metadata": {},
   "outputs": [
    {
     "name": "stdout",
     "output_type": "stream",
     "text": [
      "Data shape: (541909, 8)\n"
     ]
    },
    {
     "data": {
      "text/html": [
       "<div>\n",
       "<style scoped>\n",
       "    .dataframe tbody tr th:only-of-type {\n",
       "        vertical-align: middle;\n",
       "    }\n",
       "\n",
       "    .dataframe tbody tr th {\n",
       "        vertical-align: top;\n",
       "    }\n",
       "\n",
       "    .dataframe thead th {\n",
       "        text-align: right;\n",
       "    }\n",
       "</style>\n",
       "<table border=\"1\" class=\"dataframe\">\n",
       "  <thead>\n",
       "    <tr style=\"text-align: right;\">\n",
       "      <th></th>\n",
       "      <th>InvoiceNo</th>\n",
       "      <th>StockCode</th>\n",
       "      <th>Description</th>\n",
       "      <th>Quantity</th>\n",
       "      <th>InvoiceDate</th>\n",
       "      <th>UnitPrice</th>\n",
       "      <th>CustomerID</th>\n",
       "      <th>Country</th>\n",
       "    </tr>\n",
       "  </thead>\n",
       "  <tbody>\n",
       "    <tr>\n",
       "      <th>0</th>\n",
       "      <td>536365</td>\n",
       "      <td>85123A</td>\n",
       "      <td>WHITE HANGING HEART T-LIGHT HOLDER</td>\n",
       "      <td>6</td>\n",
       "      <td>12/1/2010 8:26</td>\n",
       "      <td>2.55</td>\n",
       "      <td>17850</td>\n",
       "      <td>United Kingdom</td>\n",
       "    </tr>\n",
       "    <tr>\n",
       "      <th>1</th>\n",
       "      <td>536365</td>\n",
       "      <td>71053</td>\n",
       "      <td>WHITE METAL LANTERN</td>\n",
       "      <td>6</td>\n",
       "      <td>12/1/2010 8:26</td>\n",
       "      <td>3.39</td>\n",
       "      <td>17850</td>\n",
       "      <td>United Kingdom</td>\n",
       "    </tr>\n",
       "    <tr>\n",
       "      <th>2</th>\n",
       "      <td>536365</td>\n",
       "      <td>84406B</td>\n",
       "      <td>CREAM CUPID HEARTS COAT HANGER</td>\n",
       "      <td>8</td>\n",
       "      <td>12/1/2010 8:26</td>\n",
       "      <td>2.75</td>\n",
       "      <td>17850</td>\n",
       "      <td>United Kingdom</td>\n",
       "    </tr>\n",
       "    <tr>\n",
       "      <th>3</th>\n",
       "      <td>536365</td>\n",
       "      <td>84029G</td>\n",
       "      <td>KNITTED UNION FLAG HOT WATER BOTTLE</td>\n",
       "      <td>6</td>\n",
       "      <td>12/1/2010 8:26</td>\n",
       "      <td>3.39</td>\n",
       "      <td>17850</td>\n",
       "      <td>United Kingdom</td>\n",
       "    </tr>\n",
       "    <tr>\n",
       "      <th>4</th>\n",
       "      <td>536365</td>\n",
       "      <td>84029E</td>\n",
       "      <td>RED WOOLLY HOTTIE WHITE HEART.</td>\n",
       "      <td>6</td>\n",
       "      <td>12/1/2010 8:26</td>\n",
       "      <td>3.39</td>\n",
       "      <td>17850</td>\n",
       "      <td>United Kingdom</td>\n",
       "    </tr>\n",
       "  </tbody>\n",
       "</table>\n",
       "</div>"
      ],
      "text/plain": [
       "  InvoiceNo StockCode                          Description  Quantity  \\\n",
       "0    536365    85123A   WHITE HANGING HEART T-LIGHT HOLDER         6   \n",
       "1    536365     71053                  WHITE METAL LANTERN         6   \n",
       "2    536365    84406B       CREAM CUPID HEARTS COAT HANGER         8   \n",
       "3    536365    84029G  KNITTED UNION FLAG HOT WATER BOTTLE         6   \n",
       "4    536365    84029E       RED WOOLLY HOTTIE WHITE HEART.         6   \n",
       "\n",
       "      InvoiceDate  UnitPrice CustomerID         Country  \n",
       "0  12/1/2010 8:26       2.55      17850  United Kingdom  \n",
       "1  12/1/2010 8:26       3.39      17850  United Kingdom  \n",
       "2  12/1/2010 8:26       2.75      17850  United Kingdom  \n",
       "3  12/1/2010 8:26       3.39      17850  United Kingdom  \n",
       "4  12/1/2010 8:26       3.39      17850  United Kingdom  "
      ]
     },
     "execution_count": 2,
     "metadata": {},
     "output_type": "execute_result"
    }
   ],
   "source": [
    "data = pd.read_csv(\n",
    "    \"./data/data.csv\", \n",
    "    encoding=\"ISO-8859-1\", \n",
    "    dtype={'CustomerID': str,'InvoiceID': str}\n",
    ")\n",
    "print('Data shape: {}'.format(data.shape))\n",
    "data.head(5)"
   ]
  },
  {
   "cell_type": "code",
   "execution_count": null,
   "id": "6932e586",
   "metadata": {},
   "outputs": [
    {
     "name": "stdout",
     "output_type": "stream",
     "text": [
      "Уникальные префиксы в InvoiceNo:\n",
      "Найдены префиксы: ['C' 'A']\n",
      "\n",
      "Количество транзакций с возвратами: 9288\n",
      "Количество транзакций со скидками: 6957\n"
     ]
    }
   ],
   "source": [
    "#Анализ номеров счетов (InvoiceNo)\n",
    "print('Уникальные префиксы в InvoiceNo:')\n",
    "invoice_prefixes = data['InvoiceNo'].str.extract(r'^(\\D+)', expand=False).dropna().unique()\n",
    "print(f'Найдены префиксы: {invoice_prefixes}')\n",
    "#Разделение на обычные транзакции и возвраты\n",
    "data['Is_Cancellation'] = data['InvoiceNo'].str.startswith('C')\n",
    "data['Is_Discount'] = data['StockCode'].str.contains('D|POST|M', case=False, na=False)\n",
    "print(f'\\nКоличество транзакций с возвратами: {data[\"Is_Cancellation\"].sum()}')\n",
    "print(f'Количество транзакций со скидками: {data[\"Is_Discount\"].sum()}')"
   ]
  },
  {
   "cell_type": "code",
   "execution_count": 4,
   "id": "3d6472e0",
   "metadata": {},
   "outputs": [
    {
     "name": "stdout",
     "output_type": "stream",
     "text": [
      "Анализ Quantity:\n",
      "Все транзакции:\n",
      "  Диапазон: [-80995 - 80995]\n",
      "  Среднее: 9.55\n",
      "  Медиана: 3.0\n",
      "\n",
      "Только покупки (Quantity > 0):\n",
      "  Диапазон: [1 - 80995]\n",
      "  Среднее: 10.66\n",
      "  Медиана: 3.0\n",
      "\n",
      "Только возвраты (Quantity < 0):\n",
      "  Диапазон: [-80995 - -1]\n",
      "  Среднее: -45.61\n",
      "  Медиана: -2.0\n"
     ]
    }
   ],
   "source": [
    "#Анализ Quantity с разделением на покупки и возвраты\n",
    "print('Анализ Quantity:')\n",
    "print('Все транзакции:')\n",
    "print(f'  Диапазон: [{data[\"Quantity\"].min()} - {data[\"Quantity\"].max()}]')\n",
    "print(f'  Среднее: {data[\"Quantity\"].mean():.2f}')\n",
    "print(f'  Медиана: {data[\"Quantity\"].median()}')\n",
    "print('\\nТолько покупки (Quantity > 0):')\n",
    "purchases = data[data['Quantity'] > 0]\n",
    "print(f'  Диапазон: [{purchases[\"Quantity\"].min()} - {purchases[\"Quantity\"].max()}]')\n",
    "print(f'  Среднее: {purchases[\"Quantity\"].mean():.2f}')\n",
    "print(f'  Медиана: {purchases[\"Quantity\"].median()}')\n",
    "print('\\nТолько возвраты (Quantity < 0):')\n",
    "returns = data[data['Quantity'] < 0]\n",
    "print(f'  Диапазон: [{returns[\"Quantity\"].min()} - {returns[\"Quantity\"].max()}]')\n",
    "print(f'  Среднее: {returns[\"Quantity\"].mean():.2f}')\n",
    "print(f'  Медиана: {returns[\"Quantity\"].median()}')"
   ]
  },
  {
   "cell_type": "code",
   "execution_count": 5,
   "id": "be452dbb",
   "metadata": {},
   "outputs": [
    {
     "name": "stdout",
     "output_type": "stream",
     "text": [
      "\n",
      "Анализ UnitPrice:\n",
      "Диапазон: [-11062.06 - 38970.00] ₤\n",
      "Среднее: 4.61 ₤\n",
      "Медиана: 2.08 ₤\n",
      "Количество бесплатных товаров (UnitPrice = 0): 2515\n"
     ]
    }
   ],
   "source": [
    "#Анализ UnitPrice\n",
    "print('\\nАнализ UnitPrice:')\n",
    "print(f'Диапазон: [{data[\"UnitPrice\"].min():.2f} - {data[\"UnitPrice\"].max():.2f}] ₤')\n",
    "print(f'Среднее: {data[\"UnitPrice\"].mean():.2f} ₤')\n",
    "print(f'Медиана: {data[\"UnitPrice\"].median():.2f} ₤')\n",
    "print(f'Количество бесплатных товаров (UnitPrice = 0): {(data[\"UnitPrice\"] == 0).sum()}')"
   ]
  }
 ],
 "metadata": {
  "kernelspec": {
   "display_name": "Python 3",
   "language": "python",
   "name": "python3"
  },
  "language_info": {
   "codemirror_mode": {
    "name": "ipython",
    "version": 3
   },
   "file_extension": ".py",
   "mimetype": "text/x-python",
   "name": "python",
   "nbconvert_exporter": "python",
   "pygments_lexer": "ipython3",
   "version": "3.12.4"
  }
 },
 "nbformat": 4,
 "nbformat_minor": 5
}
